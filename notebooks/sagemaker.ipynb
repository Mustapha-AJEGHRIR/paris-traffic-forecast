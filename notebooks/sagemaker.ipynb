{
 "cells": [
  {
   "cell_type": "code",
   "execution_count": 1,
   "metadata": {},
   "outputs": [],
   "source": [
    "%load_ext autoreload\n",
    "%autoreload 2\n",
    "\n",
    "import time\n",
    "from tqdm import notebook\n",
    "import importlib\n",
    "\n",
    "import torch\n",
    "\n",
    "import tarfile\n",
    "\n",
    "%matplotlib inline"
   ]
  },
  {
   "cell_type": "code",
   "execution_count": 2,
   "metadata": {},
   "outputs": [],
   "source": [
    "import sys\n",
    "from importlib import reload,import_module\n",
    "import os\n",
    "\n",
    "import sagemaker\n",
    "import boto3"
   ]
  },
  {
   "cell_type": "code",
   "execution_count": 7,
   "metadata": {},
   "outputs": [
    {
     "name": "stdout",
     "output_type": "stream",
     "text": [
      "env: AWS_DEFAULT_REGION=eu-west-2\n",
      "/mnt/d/Google Drive/projects/paris-traffic-forecast\n"
     ]
    }
   ],
   "source": [
    "%env AWS_DEFAULT_REGION=eu-west-2\n",
    "%cd .."
   ]
  },
  {
   "cell_type": "code",
   "execution_count": 4,
   "metadata": {},
   "outputs": [],
   "source": [
    "sagemaker_session = sagemaker.Session()\n",
    "\n",
    "bucket = sagemaker_session.default_bucket()\n",
    "prefix_in  = 'paris-traffic-forecast/input'\n",
    "prefix_out = 'paris-traffic-forecast/model'\n",
    "role = \"SageMakerRole\""
   ]
  },
  {
   "cell_type": "code",
   "execution_count": 8,
   "metadata": {},
   "outputs": [
    {
     "name": "stdout",
     "output_type": "stream",
     "text": [
      "input file (in this case, just an S3 path): s3://sagemaker-eu-west-2-047892910832/paris-traffic-forecast/input\n"
     ]
    }
   ],
   "source": [
    "rep_data = 'tmp'\n",
    "\n",
    "input_channel = sagemaker_session.upload_data(path=rep_data, bucket=bucket, key_prefix=prefix_in)\n",
    "print('input file (in this case, just an S3 path): {}'.format(input_channel))\n"
   ]
  },
  {
   "cell_type": "code",
   "execution_count": 9,
   "metadata": {},
   "outputs": [
    {
     "data": {
      "text/plain": [
       "'s3://sagemaker-eu-west-2-047892910832/paris-traffic-forecast/model'"
      ]
     },
     "execution_count": 9,
     "metadata": {},
     "output_type": "execute_result"
    }
   ],
   "source": [
    "output_path = f's3://'+bucket+'/'+prefix_out\n",
    "output_path"
   ]
  },
  {
   "cell_type": "code",
   "execution_count": 10,
   "metadata": {},
   "outputs": [],
   "source": [
    "from sagemaker.pytorch import PyTorch\n",
    "framework_version = '1.9'"
   ]
  },
  {
   "cell_type": "code",
   "execution_count": 13,
   "metadata": {},
   "outputs": [
    {
     "data": {
      "text/plain": [
       "'s3://sagemaker-eu-west-2-047892910832/paris-traffic-forecast/input'"
      ]
     },
     "execution_count": 13,
     "metadata": {},
     "output_type": "execute_result"
    }
   ],
   "source": [
    "max_run = 60*60*6 # Max time in seconds\n",
    "\n",
    "estimator = PyTorch(entry_point = 'train_TFT.py',\n",
    "                                role = role,\n",
    "                                source_dir  = 'src',\n",
    "                                py_version = 'py38',\n",
    "                                max_run=max_run,\n",
    "                                framework_version = framework_version,\n",
    "                                instance_count = 1,\n",
    "                                instance_type='ml.p3.2xlarge', #'ml.m4.xlarge',#'ml.p2.xlarge',#'ml.p3.2xlarge',#\n",
    "                                output_path=f's3://'+bucket+'/'+prefix_out,\n",
    "                                hyperparameters={\n",
    "                                                    'train_fileName':'ALL', # voi-convention2021.pkl\n",
    "                                                    'pretrain_epochs':20,\n",
    "                                                    'finetune_epochs':10,\n",
    "\n",
    "                                }\n",
    "                               )\n",
    "input_channel"
   ]
  },
  {
   "cell_type": "code",
   "execution_count": 18,
   "metadata": {},
   "outputs": [
    {
     "name": "stdout",
     "output_type": "stream",
     "text": [
      "2021-12-12 04:29:05 Starting - Starting the training job...ProfilerReport-1639283344: InProgress\n",
      "...\n",
      "2021-12-12 04:29:52 Starting - Preparing the instances for training...\n",
      "2021-12-12 04:30:35 Downloading - Downloading input data...\n",
      "2021-12-12 04:30:55 Training - Downloading the training image........................\n",
      "2021-12-12 04:35:09 Training - Training image download completed. Training in progress..\u001b[34mbash: cannot set terminal process group (-1): Inappropriate ioctl for device\u001b[0m\n",
      "\u001b[34mbash: no job control in this shell\u001b[0m\n",
      "\u001b[34m2021-12-12 04:35:14,957 sagemaker-training-toolkit INFO     Imported framework sagemaker_pytorch_container.training\u001b[0m\n",
      "\u001b[34m2021-12-12 04:35:14,980 sagemaker_pytorch_container.training INFO     Block until all host DNS lookups succeed.\u001b[0m\n",
      "\u001b[34m2021-12-12 04:35:14,997 sagemaker_pytorch_container.training INFO     Invoking user training script.\u001b[0m\n",
      "\u001b[34m2021-12-12 04:35:16,103 sagemaker-training-toolkit INFO     Installing dependencies from requirements.txt:\u001b[0m\n",
      "\u001b[34m/opt/conda/bin/python -m pip install -r requirements.txt\u001b[0m\n",
      "\u001b[34mCollecting u8darts[torch]>=0.14.0\u001b[0m\n",
      "\u001b[34mDownloading u8darts-0.14.0-py3-none-any.whl (290 kB)\u001b[0m\n",
      "\u001b[34mCollecting pandas>=1.3.4\u001b[0m\n",
      "\u001b[34mDownloading pandas-1.3.4-cp38-cp38-manylinux_2_17_x86_64.manylinux2014_x86_64.whl (11.5 MB)\u001b[0m\n",
      "\u001b[34mCollecting statsmodels>=0.13.0\u001b[0m\n",
      "\u001b[34mDownloading statsmodels-0.13.1-cp38-cp38-manylinux_2_17_x86_64.manylinux2014_x86_64.whl (9.9 MB)\u001b[0m\n",
      "\u001b[34mCollecting lightgbm>=2.2.3\u001b[0m\n",
      "\u001b[34mDownloading lightgbm-3.3.1-py3-none-manylinux1_x86_64.whl (2.0 MB)\u001b[0m\n",
      "\u001b[34mRequirement already satisfied: scipy>=1.3.2 in /opt/conda/lib/python3.8/site-packages (from u8darts[torch]>=0.14.0->-r requirements.txt (line 1)) (1.7.3)\u001b[0m\n",
      "\u001b[34mRequirement already satisfied: tqdm>=4.60.0 in /opt/conda/lib/python3.8/site-packages (from u8darts[torch]>=0.14.0->-r requirements.txt (line 1)) (4.61.2)\u001b[0m\n",
      "\u001b[34mCollecting xarray>=0.17.0\u001b[0m\n",
      "\u001b[34mDownloading xarray-0.20.2-py3-none-any.whl (845 kB)\u001b[0m\n",
      "\u001b[34mRequirement already satisfied: numpy>=1.19.0 in /opt/conda/lib/python3.8/site-packages (from u8darts[torch]>=0.14.0->-r requirements.txt (line 1)) (1.19.1)\u001b[0m\n",
      "\u001b[34mRequirement already satisfied: scikit-learn>=1.0.1 in /opt/conda/lib/python3.8/site-packages (from u8darts[torch]>=0.14.0->-r requirements.txt (line 1)) (1.0.1)\u001b[0m\n",
      "\u001b[34mRequirement already satisfied: requests>=2.22.0 in /opt/conda/lib/python3.8/site-packages (from u8darts[torch]>=0.14.0->-r requirements.txt (line 1)) (2.26.0)\u001b[0m\n",
      "\u001b[34mCollecting holidays>=0.11.1\u001b[0m\n",
      "\u001b[34mDownloading holidays-0.11.3.1-py3-none-any.whl (155 kB)\u001b[0m\n",
      "\u001b[34mRequirement already satisfied: ipython>=7.0.0 in /opt/conda/lib/python3.8/site-packages (from u8darts[torch]>=0.14.0->-r requirements.txt (line 1)) (7.18.1)\u001b[0m\n",
      "\u001b[34mRequirement already satisfied: matplotlib>=3.3.0 in /opt/conda/lib/python3.8/site-packages (from u8darts[torch]>=0.14.0->-r requirements.txt (line 1)) (3.4.3)\u001b[0m\n",
      "\u001b[34mCollecting filterpy>=1.4.5\u001b[0m\n",
      "\u001b[34mDownloading filterpy-1.4.5.zip (177 kB)\u001b[0m\n",
      "\u001b[34mPreparing metadata (setup.py): started\u001b[0m\n",
      "\u001b[34mPreparing metadata (setup.py): finished with status 'done'\u001b[0m\n",
      "\u001b[34mRequirement already satisfied: joblib>=0.16.0 in /opt/conda/lib/python3.8/site-packages (from u8darts[torch]>=0.14.0->-r requirements.txt (line 1)) (1.1.0)\u001b[0m\n",
      "\u001b[34mRequirement already satisfied: torch>=1.8.0 in /opt/conda/lib/python3.8/site-packages (from u8darts[torch]>=0.14.0->-r requirements.txt (line 1)) (1.9.1)\u001b[0m\n",
      "\u001b[34mCollecting tensorboard>=2.4.0\u001b[0m\n",
      "\u001b[34mDownloading tensorboard-2.7.0-py3-none-any.whl (5.8 MB)\u001b[0m\n",
      "\u001b[34mRequirement already satisfied: pytz>=2017.3 in /opt/conda/lib/python3.8/site-packages (from pandas>=1.3.4->-r requirements.txt (line 2)) (2021.3)\u001b[0m\n",
      "\u001b[34mRequirement already satisfied: python-dateutil>=2.7.3 in /opt/conda/lib/python3.8/site-packages (from pandas>=1.3.4->-r requirements.txt (line 2)) (2.8.2)\u001b[0m\n",
      "\u001b[34mCollecting hijri-converter\u001b[0m\n",
      "\u001b[34mDownloading hijri_converter-2.2.2-py3-none-any.whl (13 kB)\u001b[0m\n",
      "\u001b[34mCollecting korean-lunar-calendar\u001b[0m\n",
      "\u001b[34mDownloading korean_lunar_calendar-0.2.1-py3-none-any.whl (8.0 kB)\u001b[0m\n",
      "\u001b[34mCollecting convertdate>=2.3.0\u001b[0m\n",
      "\u001b[34mDownloading convertdate-2.3.2-py3-none-any.whl (47 kB)\u001b[0m\n",
      "\u001b[34mRequirement already satisfied: pexpect>4.3 in /opt/conda/lib/python3.8/site-packages (from ipython>=7.0.0->u8darts[torch]>=0.14.0->-r requirements.txt (line 1)) (4.8.0)\u001b[0m\n",
      "\u001b[34mRequirement already satisfied: backcall in /opt/conda/lib/python3.8/site-packages (from ipython>=7.0.0->u8darts[torch]>=0.14.0->-r requirements.txt (line 1)) (0.2.0)\u001b[0m\n",
      "\u001b[34mRequirement already satisfied: pygments in /opt/conda/lib/python3.8/site-packages (from ipython>=7.0.0->u8darts[torch]>=0.14.0->-r requirements.txt (line 1)) (2.7.1)\u001b[0m\n",
      "\u001b[34mRequirement already satisfied: traitlets>=4.2 in /opt/conda/lib/python3.8/site-packages (from ipython>=7.0.0->u8darts[torch]>=0.14.0->-r requirements.txt (line 1)) (5.0.5)\u001b[0m\n",
      "\u001b[34mRequirement already satisfied: pickleshare in /opt/conda/lib/python3.8/site-packages (from ipython>=7.0.0->u8darts[torch]>=0.14.0->-r requirements.txt (line 1)) (0.7.5)\u001b[0m\n",
      "\u001b[34mRequirement already satisfied: setuptools>=18.5 in /opt/conda/lib/python3.8/site-packages (from ipython>=7.0.0->u8darts[torch]>=0.14.0->-r requirements.txt (line 1)) (52.0.0.post20210125)\u001b[0m\n",
      "\u001b[34mRequirement already satisfied: decorator in /opt/conda/lib/python3.8/site-packages (from ipython>=7.0.0->u8darts[torch]>=0.14.0->-r requirements.txt (line 1)) (4.4.2)\u001b[0m\n",
      "\u001b[34mRequirement already satisfied: jedi>=0.10 in /opt/conda/lib/python3.8/site-packages (from ipython>=7.0.0->u8darts[torch]>=0.14.0->-r requirements.txt (line 1)) (0.18.0)\u001b[0m\n",
      "\u001b[34mRequirement already satisfied: prompt-toolkit!=3.0.0,!=3.0.1,<3.1.0,>=2.0.0 in /opt/conda/lib/python3.8/site-packages (from ipython>=7.0.0->u8darts[torch]>=0.14.0->-r requirements.txt (line 1)) (3.0.8)\u001b[0m\n",
      "\u001b[34mRequirement already satisfied: wheel in /opt/conda/lib/python3.8/site-packages (from lightgbm>=2.2.3->u8darts[torch]>=0.14.0->-r requirements.txt (line 1)) (0.36.2)\u001b[0m\n",
      "\u001b[34mRequirement already satisfied: kiwisolver>=1.0.1 in /opt/conda/lib/python3.8/site-packages (from matplotlib>=3.3.0->u8darts[torch]>=0.14.0->-r requirements.txt (line 1)) (1.3.2)\u001b[0m\n",
      "\u001b[34mRequirement already satisfied: pyparsing>=2.2.1 in /opt/conda/lib/python3.8/site-packages (from matplotlib>=3.3.0->u8darts[torch]>=0.14.0->-r requirements.txt (line 1)) (2.4.7)\u001b[0m\n",
      "\u001b[34mRequirement already satisfied: pillow>=6.2.0 in /opt/conda/lib/python3.8/site-packages (from matplotlib>=3.3.0->u8darts[torch]>=0.14.0->-r requirements.txt (line 1)) (8.3.2)\u001b[0m\n",
      "\u001b[34mRequirement already satisfied: cycler>=0.10 in /opt/conda/lib/python3.8/site-packages (from matplotlib>=3.3.0->u8darts[torch]>=0.14.0->-r requirements.txt (line 1)) (0.11.0)\u001b[0m\n",
      "\u001b[34mRequirement already satisfied: six>=1.5 in /opt/conda/lib/python3.8/site-packages (from python-dateutil>=2.7.3->pandas>=1.3.4->-r requirements.txt (line 2)) (1.16.0)\u001b[0m\n",
      "\u001b[34mRequirement already satisfied: certifi>=2017.4.17 in /opt/conda/lib/python3.8/site-packages (from requests>=2.22.0->u8darts[torch]>=0.14.0->-r requirements.txt (line 1)) (2021.10.8)\u001b[0m\n",
      "\u001b[34mRequirement already satisfied: idna<4,>=2.5 in /opt/conda/lib/python3.8/site-packages (from requests>=2.22.0->u8darts[torch]>=0.14.0->-r requirements.txt (line 1)) (2.10)\u001b[0m\n",
      "\u001b[34mRequirement already satisfied: charset-normalizer~=2.0.0 in /opt/conda/lib/python3.8/site-packages (from requests>=2.22.0->u8darts[torch]>=0.14.0->-r requirements.txt (line 1)) (2.0.4)\u001b[0m\n",
      "\u001b[34mRequirement already satisfied: urllib3<1.27,>=1.21.1 in /opt/conda/lib/python3.8/site-packages (from requests>=2.22.0->u8darts[torch]>=0.14.0->-r requirements.txt (line 1)) (1.26.6)\u001b[0m\n",
      "\u001b[34mRequirement already satisfied: threadpoolctl>=2.0.0 in /opt/conda/lib/python3.8/site-packages (from scikit-learn>=1.0.1->u8darts[torch]>=0.14.0->-r requirements.txt (line 1)) (2.2.0)\u001b[0m\n",
      "\u001b[34mCollecting patsy>=0.5.2\u001b[0m\n",
      "\u001b[34mDownloading patsy-0.5.2-py2.py3-none-any.whl (233 kB)\u001b[0m\n",
      "\u001b[34mCollecting tensorboard-plugin-wit>=1.6.0\u001b[0m\n",
      "\u001b[34mDownloading tensorboard_plugin_wit-1.8.0-py3-none-any.whl (781 kB)\u001b[0m\n",
      "\u001b[34mCollecting absl-py>=0.4\u001b[0m\n",
      "\u001b[34mDownloading absl_py-1.0.0-py3-none-any.whl (126 kB)\u001b[0m\n",
      "\u001b[34mRequirement already satisfied: protobuf>=3.6.0 in /opt/conda/lib/python3.8/site-packages (from tensorboard>=2.4.0->u8darts[torch]>=0.14.0->-r requirements.txt (line 1)) (3.19.1)\u001b[0m\n",
      "\u001b[34mCollecting tensorboard-data-server<0.7.0,>=0.6.0\u001b[0m\n",
      "\u001b[34mDownloading tensorboard_data_server-0.6.1-py3-none-manylinux2010_x86_64.whl (4.9 MB)\u001b[0m\n",
      "\u001b[34mRequirement already satisfied: werkzeug>=0.11.15 in /opt/conda/lib/python3.8/site-packages (from tensorboard>=2.4.0->u8darts[torch]>=0.14.0->-r requirements.txt (line 1)) (2.0.2)\u001b[0m\n",
      "\u001b[34mCollecting grpcio>=1.24.3\u001b[0m\n",
      "\u001b[34mDownloading grpcio-1.42.0-cp38-cp38-manylinux_2_17_x86_64.manylinux2014_x86_64.whl (4.0 MB)\u001b[0m\n",
      "\u001b[34mCollecting google-auth-oauthlib<0.5,>=0.4.1\u001b[0m\n",
      "\u001b[34mDownloading google_auth_oauthlib-0.4.6-py2.py3-none-any.whl (18 kB)\u001b[0m\n",
      "\u001b[34mCollecting google-auth<3,>=1.6.3\u001b[0m\n",
      "\u001b[34mDownloading google_auth-2.3.3-py2.py3-none-any.whl (155 kB)\u001b[0m\n",
      "\u001b[34mCollecting markdown>=2.6.8\u001b[0m\n",
      "\u001b[34mDownloading Markdown-3.3.6-py3-none-any.whl (97 kB)\u001b[0m\n",
      "\u001b[34mRequirement already satisfied: typing-extensions in /opt/conda/lib/python3.8/site-packages (from torch>=1.8.0->u8darts[torch]>=0.14.0->-r requirements.txt (line 1)) (3.10.0.2)\u001b[0m\n",
      "\u001b[34mCollecting pymeeus<=1,>=0.3.13\u001b[0m\n",
      "\u001b[34mDownloading PyMeeus-0.5.11.tar.gz (5.4 MB)\u001b[0m\n",
      "\u001b[34mPreparing metadata (setup.py): started\u001b[0m\n",
      "\u001b[34mPreparing metadata (setup.py): finished with status 'done'\u001b[0m\n",
      "\u001b[34mCollecting cachetools<5.0,>=2.0.0\u001b[0m\n",
      "\u001b[34mDownloading cachetools-4.2.4-py3-none-any.whl (10 kB)\u001b[0m\n",
      "\u001b[34mCollecting pyasn1-modules>=0.2.1\u001b[0m\n",
      "\u001b[34mDownloading pyasn1_modules-0.2.8-py2.py3-none-any.whl (155 kB)\u001b[0m\n",
      "\u001b[34mRequirement already satisfied: rsa<5,>=3.1.4 in /opt/conda/lib/python3.8/site-packages (from google-auth<3,>=1.6.3->tensorboard>=2.4.0->u8darts[torch]>=0.14.0->-r requirements.txt (line 1)) (4.7.2)\u001b[0m\n",
      "\u001b[34mCollecting requests-oauthlib>=0.7.0\u001b[0m\n",
      "\u001b[34mDownloading requests_oauthlib-1.3.0-py2.py3-none-any.whl (23 kB)\u001b[0m\n",
      "\u001b[34mRequirement already satisfied: parso<0.9.0,>=0.8.0 in /opt/conda/lib/python3.8/site-packages (from jedi>=0.10->ipython>=7.0.0->u8darts[torch]>=0.14.0->-r requirements.txt (line 1)) (0.8.0)\u001b[0m\n",
      "\u001b[34mRequirement already satisfied: importlib-metadata>=4.4 in /opt/conda/lib/python3.8/site-packages (from markdown>=2.6.8->tensorboard>=2.4.0->u8darts[torch]>=0.14.0->-r requirements.txt (line 1)) (4.8.2)\u001b[0m\n",
      "\u001b[34mRequirement already satisfied: ptyprocess>=0.5 in /opt/conda/lib/python3.8/site-packages (from pexpect>4.3->ipython>=7.0.0->u8darts[torch]>=0.14.0->-r requirements.txt (line 1)) (0.6.0)\u001b[0m\n",
      "\u001b[34mRequirement already satisfied: wcwidth in /opt/conda/lib/python3.8/site-packages (from prompt-toolkit!=3.0.0,!=3.0.1,<3.1.0,>=2.0.0->ipython>=7.0.0->u8darts[torch]>=0.14.0->-r requirements.txt (line 1)) (0.2.5)\u001b[0m\n",
      "\u001b[34mRequirement already satisfied: ipython-genutils in /opt/conda/lib/python3.8/site-packages (from traitlets>=4.2->ipython>=7.0.0->u8darts[torch]>=0.14.0->-r requirements.txt (line 1)) (0.2.0)\u001b[0m\n",
      "\u001b[34mRequirement already satisfied: zipp>=0.5 in /opt/conda/lib/python3.8/site-packages (from importlib-metadata>=4.4->markdown>=2.6.8->tensorboard>=2.4.0->u8darts[torch]>=0.14.0->-r requirements.txt (line 1)) (3.6.0)\u001b[0m\n",
      "\u001b[34mRequirement already satisfied: pyasn1<0.5.0,>=0.4.6 in /opt/conda/lib/python3.8/site-packages (from pyasn1-modules>=0.2.1->google-auth<3,>=1.6.3->tensorboard>=2.4.0->u8darts[torch]>=0.14.0->-r requirements.txt (line 1)) (0.4.8)\u001b[0m\n",
      "\u001b[34mCollecting oauthlib>=3.0.0\u001b[0m\n",
      "\u001b[34mDownloading oauthlib-3.1.1-py2.py3-none-any.whl (146 kB)\u001b[0m\n",
      "\u001b[34mBuilding wheels for collected packages: filterpy, pymeeus\u001b[0m\n",
      "\u001b[34mBuilding wheel for filterpy (setup.py): started\u001b[0m\n",
      "\u001b[34mBuilding wheel for filterpy (setup.py): finished with status 'done'\u001b[0m\n",
      "\u001b[34mCreated wheel for filterpy: filename=filterpy-1.4.5-py3-none-any.whl size=110451 sha256=6e607843ef4574aa45ffce8aca10f1deeb8e4d89d3d7796b626011238ce98ca1\u001b[0m\n",
      "\u001b[34mStored in directory: /root/.cache/pip/wheels/fe/f6/cb/40331472edf4fd399b8cad02973c6acbdf26898342928327fe\u001b[0m\n",
      "\u001b[34mBuilding wheel for pymeeus (setup.py): started\u001b[0m\n",
      "\u001b[34mBuilding wheel for pymeeus (setup.py): finished with status 'done'\u001b[0m\n",
      "\u001b[34mCreated wheel for pymeeus: filename=PyMeeus-0.5.11-py3-none-any.whl size=730973 sha256=d7ecd50d04dbb8a67fd3aeef9d754e0d2ff0ee721c093d38cb18606092590a06\u001b[0m\n",
      "\u001b[34mStored in directory: /root/.cache/pip/wheels/a0/8b/b2/810ae5a6f970c8be4725353400d643c90de1c0f023a9884ee7\u001b[0m\n",
      "\u001b[34mSuccessfully built filterpy pymeeus\u001b[0m\n",
      "\u001b[34mInstalling collected packages: pymeeus, pyasn1-modules, oauthlib, cachetools, requests-oauthlib, patsy, pandas, korean-lunar-calendar, hijri-converter, google-auth, convertdate, xarray, tensorboard-plugin-wit, tensorboard-data-server, statsmodels, markdown, lightgbm, holidays, grpcio, google-auth-oauthlib, filterpy, absl-py, u8darts, tensorboard\u001b[0m\n",
      "\u001b[34mAttempting uninstall: pandas\u001b[0m\n",
      "\u001b[34mFound existing installation: pandas 1.2.4\u001b[0m\n",
      "\u001b[34mUninstalling pandas-1.2.4:\u001b[0m\n",
      "\u001b[34mSuccessfully uninstalled pandas-1.2.4\u001b[0m\n",
      "\u001b[34mSuccessfully installed absl-py-1.0.0 cachetools-4.2.4 convertdate-2.3.2 filterpy-1.4.5 google-auth-2.3.3 google-auth-oauthlib-0.4.6 grpcio-1.42.0 hijri-converter-2.2.2 holidays-0.11.3.1 korean-lunar-calendar-0.2.1 lightgbm-3.3.1 markdown-3.3.6 oauthlib-3.1.1 pandas-1.3.4 patsy-0.5.2 pyasn1-modules-0.2.8 pymeeus-0.5.11 requests-oauthlib-1.3.0 statsmodels-0.13.1 tensorboard-2.7.0 tensorboard-data-server-0.6.1 tensorboard-plugin-wit-1.8.0 u8darts-0.14.0 xarray-0.20.2\u001b[0m\n",
      "\u001b[34mWARNING: Running pip as the 'root' user can result in broken permissions and conflicting behaviour with the system package manager. It is recommended to use a virtual environment instead: https://pip.pypa.io/warnings/venv\u001b[0m\n",
      "\u001b[34m2021-12-12 04:35:41,086 sagemaker-training-toolkit INFO     Invoking user script\u001b[0m\n",
      "\u001b[34mTraining Env:\u001b[0m\n",
      "\u001b[34m{\n",
      "    \"additional_framework_parameters\": {},\n",
      "    \"channel_input_dirs\": {\n",
      "        \"training\": \"/opt/ml/input/data/training\"\n",
      "    },\n",
      "    \"current_host\": \"algo-1\",\n",
      "    \"framework_module\": \"sagemaker_pytorch_container.training:main\",\n",
      "    \"hosts\": [\n",
      "        \"algo-1\"\n",
      "    ],\n",
      "    \"hyperparameters\": {\n",
      "        \"finetune_epochs\": 10,\n",
      "        \"pretrain_epochs\": 20,\n",
      "        \"train_fileName\": \"voi-convention2021.pkl\"\n",
      "    },\n",
      "    \"input_config_dir\": \"/opt/ml/input/config\",\n",
      "    \"input_data_config\": {\n",
      "        \"training\": {\n",
      "            \"TrainingInputMode\": \"File\",\n",
      "            \"S3DistributionType\": \"FullyReplicated\",\n",
      "            \"RecordWrapperType\": \"None\"\n",
      "        }\n",
      "    },\n",
      "    \"input_dir\": \"/opt/ml/input\",\n",
      "    \"is_master\": true,\n",
      "    \"job_name\": \"pytorch-training-2021-12-12-04-29-04-765\",\n",
      "    \"log_level\": 20,\n",
      "    \"master_hostname\": \"algo-1\",\n",
      "    \"model_dir\": \"/opt/ml/model\",\n",
      "    \"module_dir\": \"s3://sagemaker-eu-west-2-047892910832/pytorch-training-2021-12-12-04-29-04-765/source/sourcedir.tar.gz\",\n",
      "    \"module_name\": \"train_TFT\",\n",
      "    \"network_interface_name\": \"eth0\",\n",
      "    \"num_cpus\": 8,\n",
      "    \"num_gpus\": 1,\n",
      "    \"output_data_dir\": \"/opt/ml/output/data\",\n",
      "    \"output_dir\": \"/opt/ml/output\",\n",
      "    \"output_intermediate_dir\": \"/opt/ml/output/intermediate\",\n",
      "    \"resource_config\": {\n",
      "        \"current_host\": \"algo-1\",\n",
      "        \"hosts\": [\n",
      "            \"algo-1\"\n",
      "        ],\n",
      "        \"network_interface_name\": \"eth0\"\n",
      "    },\n",
      "    \"user_entry_point\": \"train_TFT.py\"\u001b[0m\n",
      "\u001b[34m}\u001b[0m\n",
      "\u001b[34mEnvironment variables:\u001b[0m\n",
      "\u001b[34mSM_HOSTS=[\"algo-1\"]\u001b[0m\n",
      "\u001b[34mSM_NETWORK_INTERFACE_NAME=eth0\u001b[0m\n",
      "\u001b[34mSM_HPS={\"finetune_epochs\":10,\"pretrain_epochs\":20,\"train_fileName\":\"voi-convention2021.pkl\"}\u001b[0m\n",
      "\u001b[34mSM_USER_ENTRY_POINT=train_TFT.py\u001b[0m\n",
      "\u001b[34mSM_FRAMEWORK_PARAMS={}\u001b[0m\n",
      "\u001b[34mSM_RESOURCE_CONFIG={\"current_host\":\"algo-1\",\"hosts\":[\"algo-1\"],\"network_interface_name\":\"eth0\"}\u001b[0m\n",
      "\u001b[34mSM_INPUT_DATA_CONFIG={\"training\":{\"RecordWrapperType\":\"None\",\"S3DistributionType\":\"FullyReplicated\",\"TrainingInputMode\":\"File\"}}\u001b[0m\n",
      "\u001b[34mSM_OUTPUT_DATA_DIR=/opt/ml/output/data\u001b[0m\n",
      "\u001b[34mSM_CHANNELS=[\"training\"]\u001b[0m\n",
      "\u001b[34mSM_CURRENT_HOST=algo-1\u001b[0m\n",
      "\u001b[34mSM_MODULE_NAME=train_TFT\u001b[0m\n",
      "\u001b[34mSM_LOG_LEVEL=20\u001b[0m\n",
      "\u001b[34mSM_FRAMEWORK_MODULE=sagemaker_pytorch_container.training:main\u001b[0m\n",
      "\u001b[34mSM_INPUT_DIR=/opt/ml/input\u001b[0m\n",
      "\u001b[34mSM_INPUT_CONFIG_DIR=/opt/ml/input/config\u001b[0m\n",
      "\u001b[34mSM_OUTPUT_DIR=/opt/ml/output\u001b[0m\n",
      "\u001b[34mSM_NUM_CPUS=8\u001b[0m\n",
      "\u001b[34mSM_NUM_GPUS=1\u001b[0m\n",
      "\u001b[34mSM_MODEL_DIR=/opt/ml/model\u001b[0m\n",
      "\u001b[34mSM_MODULE_DIR=s3://sagemaker-eu-west-2-047892910832/pytorch-training-2021-12-12-04-29-04-765/source/sourcedir.tar.gz\u001b[0m\n",
      "\u001b[34mSM_TRAINING_ENV={\"additional_framework_parameters\":{},\"channel_input_dirs\":{\"training\":\"/opt/ml/input/data/training\"},\"current_host\":\"algo-1\",\"framework_module\":\"sagemaker_pytorch_container.training:main\",\"hosts\":[\"algo-1\"],\"hyperparameters\":{\"finetune_epochs\":10,\"pretrain_epochs\":20,\"train_fileName\":\"voi-convention2021.pkl\"},\"input_config_dir\":\"/opt/ml/input/config\",\"input_data_config\":{\"training\":{\"RecordWrapperType\":\"None\",\"S3DistributionType\":\"FullyReplicated\",\"TrainingInputMode\":\"File\"}},\"input_dir\":\"/opt/ml/input\",\"is_master\":true,\"job_name\":\"pytorch-training-2021-12-12-04-29-04-765\",\"log_level\":20,\"master_hostname\":\"algo-1\",\"model_dir\":\"/opt/ml/model\",\"module_dir\":\"s3://sagemaker-eu-west-2-047892910832/pytorch-training-2021-12-12-04-29-04-765/source/sourcedir.tar.gz\",\"module_name\":\"train_TFT\",\"network_interface_name\":\"eth0\",\"num_cpus\":8,\"num_gpus\":1,\"output_data_dir\":\"/opt/ml/output/data\",\"output_dir\":\"/opt/ml/output\",\"output_intermediate_dir\":\"/opt/ml/output/intermediate\",\"resource_config\":{\"current_host\":\"algo-1\",\"hosts\":[\"algo-1\"],\"network_interface_name\":\"eth0\"},\"user_entry_point\":\"train_TFT.py\"}\u001b[0m\n",
      "\u001b[34mSM_USER_ARGS=[\"--finetune_epochs\",\"10\",\"--pretrain_epochs\",\"20\",\"--train_fileName\",\"voi-convention2021.pkl\"]\u001b[0m\n",
      "\u001b[34mSM_OUTPUT_INTERMEDIATE_DIR=/opt/ml/output/intermediate\u001b[0m\n",
      "\u001b[34mSM_CHANNEL_TRAINING=/opt/ml/input/data/training\u001b[0m\n",
      "\u001b[34mSM_HP_FINETUNE_EPOCHS=10\u001b[0m\n",
      "\u001b[34mSM_HP_PRETRAIN_EPOCHS=20\u001b[0m\n",
      "\u001b[34mSM_HP_TRAIN_FILENAME=voi-convention2021.pkl\u001b[0m\n",
      "\u001b[34mPYTHONPATH=/opt/ml/code:/opt/conda/bin:/opt/conda/lib/python38.zip:/opt/conda/lib/python3.8:/opt/conda/lib/python3.8/lib-dynload:/opt/conda/lib/python3.8/site-packages\u001b[0m\n",
      "\u001b[34mInvoking script with the following command:\u001b[0m\n",
      "\u001b[34m/opt/conda/bin/python train_TFT.py --finetune_epochs 10 --pretrain_epochs 20 --train_fileName voi-convention2021.pkl\u001b[0m\n",
      "\u001b[34m[2021-12-12 04:35:47,006] WARNING | darts.models | Support for AutoARIMA is not available. To enable it, install u8darts[pmdarima] or u8darts[all].\u001b[0m\n",
      "\u001b[34m[2021-12-12 04:35:47,007] WARNING | darts.models | Support for Facebook Prophet is not available. To enable it, install \"darts\", \"u8darts[prophet]\" or \"u8darts[all]\" (with pip);or \"u8darts-all\" (with conda).\u001b[0m\n",
      "\u001b[34mLoaded 19 arcs:\u001b[0m\n",
      "\u001b[34mConvention-Blomet Convention-Vaugirard\u001b[0m\n",
      "\u001b[34mConvention-Felix_Faure Convention-Lourmel\u001b[0m\n",
      "\u001b[34mConvention-Felix_Faure Convention-Nivert\u001b[0m\n",
      "\u001b[34mConvention-Felix_Faure Faure-Javel\u001b[0m\n",
      "\u001b[34mConvention-Gutemberg Convention-St_Charles\u001b[0m\n",
      "\u001b[34mConvention-Gutemberg Rond_Point_Mirabeau\u001b[0m\n",
      "\u001b[34mConvention-Lourmel Convention-Felix_Faure\u001b[0m\n",
      "\u001b[34mConvention-Lourmel Convention-St_Charles\u001b[0m\n",
      "\u001b[34mConvention-Nivert Convention-Felix_Faure\u001b[0m\n",
      "\u001b[34mConvention-Nivert Lecourbe-Convention\u001b[0m\n",
      "\u001b[34mConvention-Olivier_de_Serres Place_Charles_Valin\u001b[0m\n",
      "\u001b[34mConvention-St_Charles Convention-Gutemberg\u001b[0m\n",
      "\u001b[34mConvention-St_Charles Convention-Lourmel\u001b[0m\n",
      "\u001b[34mConvention-Vaugirard Convention-Olivier_de_Serres\u001b[0m\n",
      "\u001b[34mFaure-Javel Convention-Felix_Faure\u001b[0m\n",
      "\u001b[34mLecourbe-Convention Convention-Blomet\u001b[0m\n",
      "\u001b[34mLecourbe-Convention Convention-Nivert\u001b[0m\n",
      "\u001b[34mLecourbe-Convention Lecourbe-Croix-Nivert\u001b[0m\n",
      "\u001b[34mRond_Point_Mirabeau Convention-Gutemberg\u001b[0m\n",
      "\u001b[34mFitting model on all data...\u001b[0m\n",
      "\u001b[34m0%|          | 0/20 [00:00<?, ?it/s]\u001b[0m\n"
     ]
    }
   ],
   "source": [
    "estimator.fit({'training': input_channel})"
   ]
  },
  {
   "cell_type": "code",
   "execution_count": null,
   "metadata": {},
   "outputs": [],
   "source": [
    "training_job_name = estimator.latest_training_job.name\n",
    "desc = sagemaker_session.sagemaker_client.describe_training_job(TrainingJobName=training_job_name)\n",
    "trained_model_location = desc['ModelArtifacts']['S3ModelArtifacts']\n",
    "display('Model is here: {}'.format(trained_model_location))\n",
    "\n",
    "s3 = boto3.resource('s3')    \n",
    "s3.Bucket(bucket).download_file(prefix_out + '/' + desc['TrainingJobName'] + '/' + 'output/model.tar.gz','./models/model.tar.gz')"
   ]
  },
  {
   "cell_type": "code",
   "execution_count": 42,
   "metadata": {},
   "outputs": [],
   "source": [
    "model_dir = './models/model0'\n",
    "\n",
    "with tarfile.open('./models/model.tar.gz','r:gz') as archived:\n",
    "    archived.extractall(model_dir)"
   ]
  },
  {
   "cell_type": "code",
   "execution_count": 17,
   "metadata": {},
   "outputs": [
    {
     "name": "stdout",
     "output_type": "stream",
     "text": [
      "INFO: Successfully saved requirements file in ./requirements.txt\n"
     ]
    }
   ],
   "source": [
    "!pipreqs ./ --force"
   ]
  },
  {
   "cell_type": "code",
   "execution_count": null,
   "metadata": {},
   "outputs": [],
   "source": []
  }
 ],
 "metadata": {
  "instance_type": "ml.t3.medium",
  "kernelspec": {
   "display_name": "Python 3",
   "language": "python",
   "name": "python3"
  },
  "language_info": {
   "codemirror_mode": {
    "name": "ipython",
    "version": 3
   },
   "file_extension": ".py",
   "mimetype": "text/x-python",
   "name": "python",
   "nbconvert_exporter": "python",
   "pygments_lexer": "ipython3",
   "version": "3.9.7"
  }
 },
 "nbformat": 4,
 "nbformat_minor": 4
}
